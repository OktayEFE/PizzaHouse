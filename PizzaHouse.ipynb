{
  "nbformat": 4,
  "nbformat_minor": 0,
  "metadata": {
    "colab": {
      "provenance": [],
      "authorship_tag": "ABX9TyP7BX0t8cYhNyvQQeOf5HFV",
      "include_colab_link": true
    },
    "kernelspec": {
      "name": "python3",
      "display_name": "Python 3"
    },
    "language_info": {
      "name": "python"
    }
  },
  "cells": [
    {
      "cell_type": "markdown",
      "metadata": {
        "id": "view-in-github",
        "colab_type": "text"
      },
      "source": [
        "<a href=\"https://colab.research.google.com/github/OktayEFE/PizzaHouse/blob/main/PizzaHouse.ipynb\" target=\"_parent\"><img src=\"https://colab.research.google.com/assets/colab-badge.svg\" alt=\"Open In Colab\"/></a>"
      ]
    },
    {
      "cell_type": "markdown",
      "source": [
        "1- İmport İşlemleri"
      ],
      "metadata": {
        "id": "0tNMl3i_dAoF"
      }
    },
    {
      "cell_type": "code",
      "source": [
        "import csv"
      ],
      "metadata": {
        "id": "UABSIlDXbwxm"
      },
      "execution_count": null,
      "outputs": []
    },
    {
      "cell_type": "code",
      "source": [
        "import datetime"
      ],
      "metadata": {
        "id": "RCDL-BnQbzej"
      },
      "execution_count": null,
      "outputs": []
    },
    {
      "cell_type": "markdown",
      "source": [
        "2- Menu.txt dosyasının oluşturulması ve içerik eklenmesi.\n",
        "w(Write)-yazma\n",
        "\n",
        "1. komut sonrası çalıştırıldığın da eğer dosya yok ise oluturulur ve yazmak için açılır"
      ],
      "metadata": {
        "id": "OWpzLrZedDcV"
      }
    },
    {
      "cell_type": "code",
      "source": [
        "menu = open(\"Menu.txt\",\"w\")\n",
        "menu.write(\"* Lütfen Bir Pizza Tabanı Seçiniz:\\n1: Klasik\\n2: Margarita\\n3: TürkPizza\\n4: Sade Pizza\\n* ve seçeceğiniz sos:\\n11: Zeytin\\n12: Mantarlar\\n13: Keçi Peyniri\\n14: Et\\n15: Soğan\\n16: Mısır\\n\")"
      ],
      "metadata": {
        "colab": {
          "base_uri": "https://localhost:8080/"
        },
        "id": "I0XzYRz8e5-0",
        "outputId": "ebeff16e-1583-446f-b641-34d4d88eedd7"
      },
      "execution_count": null,
      "outputs": [
        {
          "output_type": "execute_result",
          "data": {
            "text/plain": [
              "176"
            ]
          },
          "metadata": {},
          "execution_count": 50
        }
      ]
    },
    {
      "cell_type": "code",
      "source": [
        "with open(\"Menu.txt\", \"r\") as f:\n",
        "        menu = f.read()\n",
        "        print(menu)"
      ],
      "metadata": {
        "colab": {
          "base_uri": "https://localhost:8080/"
        },
        "id": "wnZipofjqxKN",
        "outputId": "777231c8-a676-48af-f10a-1e573ce28470"
      },
      "execution_count": null,
      "outputs": [
        {
          "output_type": "stream",
          "name": "stdout",
          "text": [
            "\n"
          ]
        }
      ]
    },
    {
      "cell_type": "markdown",
      "source": [
        "\n",
        "3- Pizza üst sınıf oluşturma\n",
        "\n",
        "1.   get_description\n",
        "2.   get_const\\\n",
        "methodların oluşturulması\n",
        "\n",
        "\n"
      ],
      "metadata": {
        "id": "zM1dQsUDc9SI"
      }
    },
    {
      "cell_type": "code",
      "source": [
        "class pizza:\n",
        "  def __init__(self,description,cost):\n",
        "    self.__description = description\n",
        "    self.__cost = cost\n",
        "    \n",
        "  def get_description(self):\n",
        "    return self.__description\n",
        "  def get_cost(self):\n",
        "    return self.__cost"
      ],
      "metadata": {
        "id": "u-k_6thqhCFD"
      },
      "execution_count": null,
      "outputs": []
    },
    {
      "cell_type": "markdown",
      "source": [
        "\n",
        "4- Alt sınıf pizzaların oluşturulması ve ek olarak pizza adı parametre olarak gönderilecektir.\n"
      ],
      "metadata": {
        "id": "27AcAzwNh6r_"
      }
    },
    {
      "cell_type": "code",
      "source": [
        "class KlasikPizza(pizza):\n",
        "  def __init__(self):\n",
        "        super().__init__(\"Klasik Pizza\", 50.0)\n",
        "\n",
        "class MargaritaPizza(pizza):\n",
        "  def __init__(self):\n",
        "        super().__init__(\"Margarita Pizza\", 60.0)\n",
        "\n",
        "class TurkPizza(pizza):\n",
        "  def __init__(self):\n",
        "        super().__init__(\"Türk Pizza\", 70.0)\n",
        "\n",
        "class SadePizza(pizza):\n",
        "  def __init__(self):\n",
        "        super().__init__(\"Sade Pizza\", 40.0)\n"
      ],
      "metadata": {
        "id": "N6vJLdZ7h6X0"
      },
      "execution_count": null,
      "outputs": []
    },
    {
      "cell_type": "markdown",
      "source": [
        "5- Decorator sınıf tanımlaması\\\n",
        "Sos sınıflarının tanımlanması"
      ],
      "metadata": {
        "id": "Ja30mPhCh6Iw"
      }
    },
    {
      "cell_type": "code",
      "source": [
        "class Decorator(pizza):\n",
        "    def __init__(self, pizza, description, cost):\n",
        "        super().__init__(pizza.get_description(), pizza.get_cost())\n",
        "        self.component = pizza\n",
        "        self.description = description\n",
        "        self.cost = cost\n",
        "\n",
        "    def get_cost(self):\n",
        "        return self.component.get_cost() + self.cost\n",
        "\n",
        "    def get_description(self):\n",
        "        return self.component.get_description() + ', ' + self.description\n",
        "\n",
        "\n",
        "class Zeytin(Decorator):\n",
        "    def __init__(self, pizza):\n",
        "        super().__init__(pizza, \"Zeytin\", 5.0)\n",
        "\n",
        "class Mantar(Decorator):\n",
        "    def __init__(self, pizza):\n",
        "        super().__init__(pizza, \"Mantar\", 10.0)\n",
        "\n",
        "\n",
        "class Peyir(Decorator):\n",
        "    def __init__(self, pizza):\n",
        "        super().__init__(pizza, \"Peynir\", 8.0)\n",
        "\n",
        "\n",
        "class Et(Decorator):\n",
        "    def __init__(self, pizza):\n",
        "        super().__init__(pizza, \"Et\", 15.0)\n",
        "\n",
        "\n",
        "class Sogan(Decorator):\n",
        "    def __init__(self, pizza):\n",
        "        super().__init__(pizza, \"Soğan\", 3.0)\n",
        "\n",
        "\n",
        "class Misir(Decorator):\n",
        "    def __init__(self, pizza):\n",
        "        super().__init__(pizza, \"Mısır\", 12.0)"
      ],
      "metadata": {
        "id": "Rlwey_ibYPEO"
      },
      "execution_count": null,
      "outputs": []
    },
    {
      "cell_type": "markdown",
      "source": [
        "6- MAİN DOSYASI"
      ],
      "metadata": {
        "id": "TxOs0e_gr8tB"
      }
    },
    {
      "cell_type": "markdown",
      "source": [],
      "metadata": {
        "id": "IHlAc8oxsAYO"
      }
    },
    {
      "cell_type": "code",
      "source": [
        "1import csv\n",
        "from datetime import datetime\n",
        "\n",
        "def main():\n",
        "    print(\"-----------Pizzacıya Hoşgeldiniz-----------\")\n",
        "    print(\"------Aşağıdaki menüden pizza seçiniz------\")\n",
        "\n",
        "\n",
        "\n",
        "# Menu.txt dosyasının oluşturulması ve içerik eklenmesi.\n",
        "# w(Write)-yazma\n",
        "#1. komut sonrası çalıştırıldığın da eğer dosya yok ise oluturulur ve yazmak için açılır\n",
        "#1 defa çalıştırıldı ve dosya oluşturuldu\n",
        "#menu = open(\"Menu.txt\",\"w\")\n",
        "#menu.write(\"* Lütfen Bir Pizza Tabanı Seçiniz:\\n1: Klasik\\n2: Margarita\\n3: TürkPizza\\n4: Sade Pizza\\n* ve seçeceğiniz sos:\\n11: Zeytin\\n12: Mantarlar\\n13: Keçi Peyniri\\n14: Et\\n15: Soğan\\n16: Mısır\\n\")\n",
        "\n",
        "    with open(\"Menu.txt\", \"r\") as f:\n",
        "        menu = f.read()\n",
        "        print(menu)\n",
        "\n",
        "    # Menü dosyasının okunması\n",
        "    with open(\"Menu.txt\", \"r\") as f:\n",
        "        menu = f.read()\n",
        "        print(menu)\n",
        "\n",
        "    number_list_pizza = {\n",
        "        '1': KlasikPizza(),\n",
        "        '2': MargaritaPizza(),\n",
        "        '3': TurkPizza(),\n",
        "        '4': SadePizza()\n",
        "    }\n",
        "\n",
        "    number_list_sos = {\n",
        "        '11': Zeytin,\n",
        "        '12': Mantar,\n",
        "        '13': Peynir,\n",
        "        '14': Et,\n",
        "        '15': Sogan,\n",
        "        '16': Misir\n",
        "    }\n",
        "\n",
        "#pizza seçim işlemi\n",
        "    secilen_pizza = input(\"Pizza Seç (1-4): \")\n",
        "    if secilen_pizza not in number_list_pizza:\n",
        "        print(\"Seçtiğin pizza listede yok.\")\n",
        "        return\n",
        "\n",
        "    pizza = number_list_pizza[secilen_pizza]\n",
        "    pizza_name = pizza.__class__.__name__  # Seçilen pizza bilgisinin kaydedilmesi\n",
        "\n",
        "#sos seçim işlemi- 1 den azla sos seçilebilir\n",
        "    secilen_sos_listesi = []\n",
        "    while True:\n",
        "        sos_sec = input(\"Sos Seç(11-16) veya Bitti yaz ve bitir: \")\n",
        "        if sos_sec == 'Bitti':\n",
        "            break\n",
        "        if sos_sec not in number_list_sos:\n",
        "            print(\"Seçilen sos listede yok.\")\n",
        "            continue\n",
        "\n",
        "        sos = number_list_sos[sos_sec]\n",
        "        #pizza = sos(pizza)\n",
        "        # Seçilen sosun önceden seçilip seçilmediğinin kontrol edilmesi\n",
        "        if sos.__name__ not in secilen_sos_listesi:\n",
        "            secilen_sos_listesi.append(sos.__name__)\n",
        "        else:\n",
        "            print(\"Bu sosu zaten seçtiniz.\")\n",
        "\n",
        "    # Pizzanın toplam maliyetini öğrenin\n",
        "    total_cost = pizza.get_cost()\n",
        "\n",
        "    # Sipariş özetinin yazdırılması ve onay işlemi\n",
        "    print(\"\\nSeçilen Pizza: \" + pizza_name)\n",
        "    print(\"\\nSeçilen Soslar: \" + ', '.join(secilen_sos_listesi))\n",
        "    print(\"\\nToplam Fiyat: $\" + str(total_cost))\n",
        "\n",
        "    while True:\n",
        "        devam_mi = input(\"\\nİşleme devam etmek istiyor musunuz? (evet/hayır): \")\n",
        "        if devam_mi.lower() == 'evet':\n",
        "            break\n",
        "        elif devam_mi.lower() == 'hayır':\n",
        "            print(\"İptal Edildi.\")\n",
        "            return\n",
        "        else:\n",
        "            print(\"Hatalı Giriş. Lütfen 'evet' veya 'hayır' giriniz.\")\n",
        "\n",
        "    # Kullanıcı bilgileri al\n",
        "    print(\"Ödeme işlemleri için lütfen bilgileri giriniz.\")\n",
        "    name = input(\"Kullanıcı adı: \")\n",
        "    id_num = input(\"Kullanıcı ID: \")\n",
        "    credit_card_num = input(\"Kart Numarası: \")\n",
        "    credit_card_password = input(\"Parola: \")\n",
        "\n",
        "    # Tamamlanan işlemin Veitabanına kadedilmesi\n",
        "    now = datetime.now()\n",
        "    current_time = now.strftime(\"%m/%d/%Y %H:%M:%S\")\n",
        "    with open(\"Orders_Database.csv\", mode=\"a\") as database:\n",
        "        writer = csv.writer(database)\n",
        "        writer.writerow(\n",
        "            [name, id_num, credit_card_num, pizza.get_description(), ', '.join(secilen_sos_listesi),\n",
        "             current_time, credit_card_password, total_cost])\n",
        "\n",
        "    print(\"\\nİşlem Tamamlandı!\")\n",
        "\n",
        "\n",
        "if __name__ == '__main__':\n",
        "    main()"
      ],
      "metadata": {
        "colab": {
          "base_uri": "https://localhost:8080/"
        },
        "id": "aGpahEB_7rBb",
        "outputId": "e4040317-385e-40d7-c440-2a1706038fcd"
      },
      "execution_count": 56,
      "outputs": [
        {
          "output_type": "stream",
          "name": "stdout",
          "text": [
            "-----------Pizzacıya Hoşgeldiniz-----------\n",
            "------Aşağıdaki menüden pizza seçiniz------\n",
            "* Lütfen Bir Pizza Tabanı Seçiniz:\n",
            "1: Klasik\n",
            "2: Margarita\n",
            "3: TürkPizza\n",
            "4: Sade Pizza\n",
            "* ve seçeceğiniz sos:\n",
            "11: Zeytin\n",
            "12: Mantarlar\n",
            "13: Keçi Peyniri\n",
            "14: Et\n",
            "15: Soğan\n",
            "16: Mısır\n",
            "\n",
            "* Lütfen Bir Pizza Tabanı Seçiniz:\n",
            "1: Klasik\n",
            "2: Margarita\n",
            "3: TürkPizza\n",
            "4: Sade Pizza\n",
            "* ve seçeceğiniz sos:\n",
            "11: Zeytin\n",
            "12: Mantarlar\n",
            "13: Keçi Peyniri\n",
            "14: Et\n",
            "15: Soğan\n",
            "16: Mısır\n",
            "\n",
            "Pizza Seç (1-4): 1\n",
            "Sos Seç(11-16) veya Bitti yaz ve bitir: 2\n",
            "Seçilen sos listede yok.\n",
            "Sos Seç(11-16) veya Bitti yaz ve bitir: 12\n",
            "Sos Seç(11-16) veya Bitti yaz ve bitir: Bitti\n",
            "\n",
            "Seçilen Pizza: KlasikPizza\n",
            "\n",
            "Seçilen Soslar: Mantar\n",
            "\n",
            "Toplam Fiyat: $50.0\n",
            "\n",
            "İşleme devam etmek istiyor musunuz? (evet/hayır): evet\n",
            "Ödeme işlemleri için lütfen bilgileri giriniz.\n",
            "Kullanıcı adı: oktay\n",
            "Kullanıcı ID: 123\n",
            "Kart Numarası: 234\n",
            "Parola: 12345\n",
            "\n",
            "İşlem Tamamlandı!\n"
          ]
        }
      ]
    }
  ]
}